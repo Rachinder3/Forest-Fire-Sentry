{
 "cells": [
  {
   "cell_type": "code",
   "execution_count": 1,
   "metadata": {},
   "outputs": [],
   "source": [
    "import os\n",
    "# from path import Path"
   ]
  },
  {
   "cell_type": "code",
   "execution_count": 2,
   "metadata": {},
   "outputs": [],
   "source": [
    "best_model_path = \"..//model//best.pt\""
   ]
  },
  {
   "cell_type": "code",
   "execution_count": 3,
   "metadata": {},
   "outputs": [
    {
     "data": {
      "text/plain": [
       "True"
      ]
     },
     "execution_count": 3,
     "metadata": {},
     "output_type": "execute_result"
    }
   ],
   "source": [
    "os.path.exists(best_model_path)"
   ]
  },
  {
   "cell_type": "code",
   "execution_count": 4,
   "metadata": {},
   "outputs": [],
   "source": [
    "from datetime import datetime"
   ]
  },
  {
   "cell_type": "code",
   "execution_count": 5,
   "metadata": {},
   "outputs": [],
   "source": [
    "output_folder = '..//outputs'"
   ]
  },
  {
   "cell_type": "code",
   "execution_count": null,
   "metadata": {},
   "outputs": [],
   "source": []
  },
  {
   "cell_type": "code",
   "execution_count": 6,
   "metadata": {},
   "outputs": [
    {
     "data": {
      "text/plain": [
       "'2023-03-08_11-49-25'"
      ]
     },
     "execution_count": 6,
     "metadata": {},
     "output_type": "execute_result"
    }
   ],
   "source": [
    "datetime.now().strftime(\"%Y-%m-%d_%H-%M-%S\")"
   ]
  },
  {
   "cell_type": "code",
   "execution_count": 7,
   "metadata": {},
   "outputs": [],
   "source": [
    "name = datetime.now().strftime(\"%Y-%m-%d_%H-%M-%S\")"
   ]
  },
  {
   "cell_type": "code",
   "execution_count": 8,
   "metadata": {},
   "outputs": [],
   "source": [
    "source = \"..//try3.mp4\""
   ]
  },
  {
   "cell_type": "code",
   "execution_count": 9,
   "metadata": {},
   "outputs": [
    {
     "name": "stderr",
     "output_type": "stream",
     "text": [
      "\u001b[34m\u001b[1mdetect: \u001b[0mweights=['..//model//best.pt'], source=..//try3.mp4, data=..\\yolov5\\data\\coco128.yaml, imgsz=[640, 640], conf_thres=0.4, iou_thres=0.45, max_det=1000, device=, view_img=False, save_txt=False, save_conf=False, save_crop=False, nosave=False, classes=None, agnostic_nms=False, augment=False, visualize=False, update=False, project=..//outputs, name=2023-03-08_11-49-25, exist_ok=True, line_thickness=3, hide_labels=False, hide_conf=False, half=False, dnn=False\n",
      "YOLOv5  2023-3-6 Python-3.8.0 torch-1.13.1+cpu CPU\n",
      "\n",
      "Fusing layers... \n",
      "custom_YOLOv5m summary: 290 layers, 20852934 parameters, 0 gradients, 47.9 GFLOPs\n",
      "video 1/1 (1/77) C:\\Users\\rachi\\Desktop\\inueuron\\PERSONAL PROJECTS\\Smoke Detection\\Wildfire-Smoke-Object-Detction\\try3.mp4: 448x640 Done. (0.336s)\n",
      "video 1/1 (2/77) C:\\Users\\rachi\\Desktop\\inueuron\\PERSONAL PROJECTS\\Smoke Detection\\Wildfire-Smoke-Object-Detction\\try3.mp4: 448x640 Done. (0.296s)\n",
      "video 1/1 (3/77) C:\\Users\\rachi\\Desktop\\inueuron\\PERSONAL PROJECTS\\Smoke Detection\\Wildfire-Smoke-Object-Detction\\try3.mp4: 448x640 Done. (0.327s)\n",
      "video 1/1 (4/77) C:\\Users\\rachi\\Desktop\\inueuron\\PERSONAL PROJECTS\\Smoke Detection\\Wildfire-Smoke-Object-Detction\\try3.mp4: 448x640 Done. (0.297s)\n",
      "video 1/1 (5/77) C:\\Users\\rachi\\Desktop\\inueuron\\PERSONAL PROJECTS\\Smoke Detection\\Wildfire-Smoke-Object-Detction\\try3.mp4: 448x640 Done. (0.312s)\n",
      "video 1/1 (6/77) C:\\Users\\rachi\\Desktop\\inueuron\\PERSONAL PROJECTS\\Smoke Detection\\Wildfire-Smoke-Object-Detction\\try3.mp4: 448x640 Done. (0.312s)\n",
      "video 1/1 (7/77) C:\\Users\\rachi\\Desktop\\inueuron\\PERSONAL PROJECTS\\Smoke Detection\\Wildfire-Smoke-Object-Detction\\try3.mp4: 448x640 Done. (0.312s)\n",
      "video 1/1 (8/77) C:\\Users\\rachi\\Desktop\\inueuron\\PERSONAL PROJECTS\\Smoke Detection\\Wildfire-Smoke-Object-Detction\\try3.mp4: 448x640 Done. (0.312s)\n",
      "video 1/1 (9/77) C:\\Users\\rachi\\Desktop\\inueuron\\PERSONAL PROJECTS\\Smoke Detection\\Wildfire-Smoke-Object-Detction\\try3.mp4: 448x640 Done. (0.312s)\n",
      "video 1/1 (10/77) C:\\Users\\rachi\\Desktop\\inueuron\\PERSONAL PROJECTS\\Smoke Detection\\Wildfire-Smoke-Object-Detction\\try3.mp4: 448x640 Done. (0.308s)\n",
      "video 1/1 (11/77) C:\\Users\\rachi\\Desktop\\inueuron\\PERSONAL PROJECTS\\Smoke Detection\\Wildfire-Smoke-Object-Detction\\try3.mp4: 448x640 Done. (0.327s)\n",
      "video 1/1 (12/77) C:\\Users\\rachi\\Desktop\\inueuron\\PERSONAL PROJECTS\\Smoke Detection\\Wildfire-Smoke-Object-Detction\\try3.mp4: 448x640 Done. (0.336s)\n",
      "video 1/1 (13/77) C:\\Users\\rachi\\Desktop\\inueuron\\PERSONAL PROJECTS\\Smoke Detection\\Wildfire-Smoke-Object-Detction\\try3.mp4: 448x640 Done. (0.320s)\n",
      "video 1/1 (14/77) C:\\Users\\rachi\\Desktop\\inueuron\\PERSONAL PROJECTS\\Smoke Detection\\Wildfire-Smoke-Object-Detction\\try3.mp4: 448x640 Done. (0.313s)\n",
      "video 1/1 (15/77) C:\\Users\\rachi\\Desktop\\inueuron\\PERSONAL PROJECTS\\Smoke Detection\\Wildfire-Smoke-Object-Detction\\try3.mp4: 448x640 Done. (0.320s)\n",
      "video 1/1 (16/77) C:\\Users\\rachi\\Desktop\\inueuron\\PERSONAL PROJECTS\\Smoke Detection\\Wildfire-Smoke-Object-Detction\\try3.mp4: 448x640 Done. (0.312s)\n",
      "video 1/1 (17/77) C:\\Users\\rachi\\Desktop\\inueuron\\PERSONAL PROJECTS\\Smoke Detection\\Wildfire-Smoke-Object-Detction\\try3.mp4: 448x640 Done. (0.315s)\n",
      "video 1/1 (18/77) C:\\Users\\rachi\\Desktop\\inueuron\\PERSONAL PROJECTS\\Smoke Detection\\Wildfire-Smoke-Object-Detction\\try3.mp4: 448x640 Done. (0.312s)\n",
      "video 1/1 (19/77) C:\\Users\\rachi\\Desktop\\inueuron\\PERSONAL PROJECTS\\Smoke Detection\\Wildfire-Smoke-Object-Detction\\try3.mp4: 448x640 Done. (0.320s)\n",
      "video 1/1 (20/77) C:\\Users\\rachi\\Desktop\\inueuron\\PERSONAL PROJECTS\\Smoke Detection\\Wildfire-Smoke-Object-Detction\\try3.mp4: 448x640 Done. (0.312s)\n",
      "video 1/1 (21/77) C:\\Users\\rachi\\Desktop\\inueuron\\PERSONAL PROJECTS\\Smoke Detection\\Wildfire-Smoke-Object-Detction\\try3.mp4: 448x640 Done. (0.313s)\n",
      "video 1/1 (22/77) C:\\Users\\rachi\\Desktop\\inueuron\\PERSONAL PROJECTS\\Smoke Detection\\Wildfire-Smoke-Object-Detction\\try3.mp4: 448x640 Done. (0.312s)\n",
      "video 1/1 (23/77) C:\\Users\\rachi\\Desktop\\inueuron\\PERSONAL PROJECTS\\Smoke Detection\\Wildfire-Smoke-Object-Detction\\try3.mp4: 448x640 Done. (0.312s)\n",
      "video 1/1 (24/77) C:\\Users\\rachi\\Desktop\\inueuron\\PERSONAL PROJECTS\\Smoke Detection\\Wildfire-Smoke-Object-Detction\\try3.mp4: 448x640 Done. (0.304s)\n",
      "video 1/1 (25/77) C:\\Users\\rachi\\Desktop\\inueuron\\PERSONAL PROJECTS\\Smoke Detection\\Wildfire-Smoke-Object-Detction\\try3.mp4: 448x640 Done. (0.312s)\n",
      "video 1/1 (26/77) C:\\Users\\rachi\\Desktop\\inueuron\\PERSONAL PROJECTS\\Smoke Detection\\Wildfire-Smoke-Object-Detction\\try3.mp4: 448x640 Done. (0.335s)\n",
      "video 1/1 (27/77) C:\\Users\\rachi\\Desktop\\inueuron\\PERSONAL PROJECTS\\Smoke Detection\\Wildfire-Smoke-Object-Detction\\try3.mp4: 448x640 Done. (0.341s)\n",
      "video 1/1 (28/77) C:\\Users\\rachi\\Desktop\\inueuron\\PERSONAL PROJECTS\\Smoke Detection\\Wildfire-Smoke-Object-Detction\\try3.mp4: 448x640 Done. (0.325s)\n",
      "video 1/1 (29/77) C:\\Users\\rachi\\Desktop\\inueuron\\PERSONAL PROJECTS\\Smoke Detection\\Wildfire-Smoke-Object-Detction\\try3.mp4: 448x640 Done. (0.324s)\n",
      "video 1/1 (30/77) C:\\Users\\rachi\\Desktop\\inueuron\\PERSONAL PROJECTS\\Smoke Detection\\Wildfire-Smoke-Object-Detction\\try3.mp4: 448x640 1 smoke, Done. (0.316s)\n",
      "video 1/1 (31/77) C:\\Users\\rachi\\Desktop\\inueuron\\PERSONAL PROJECTS\\Smoke Detection\\Wildfire-Smoke-Object-Detction\\try3.mp4: 448x640 Done. (0.317s)\n",
      "video 1/1 (32/77) C:\\Users\\rachi\\Desktop\\inueuron\\PERSONAL PROJECTS\\Smoke Detection\\Wildfire-Smoke-Object-Detction\\try3.mp4: 448x640 Done. (0.309s)\n",
      "video 1/1 (33/77) C:\\Users\\rachi\\Desktop\\inueuron\\PERSONAL PROJECTS\\Smoke Detection\\Wildfire-Smoke-Object-Detction\\try3.mp4: 448x640 Done. (0.318s)\n",
      "video 1/1 (34/77) C:\\Users\\rachi\\Desktop\\inueuron\\PERSONAL PROJECTS\\Smoke Detection\\Wildfire-Smoke-Object-Detction\\try3.mp4: 448x640 Done. (0.317s)\n",
      "video 1/1 (35/77) C:\\Users\\rachi\\Desktop\\inueuron\\PERSONAL PROJECTS\\Smoke Detection\\Wildfire-Smoke-Object-Detction\\try3.mp4: 448x640 Done. (0.316s)\n",
      "video 1/1 (36/77) C:\\Users\\rachi\\Desktop\\inueuron\\PERSONAL PROJECTS\\Smoke Detection\\Wildfire-Smoke-Object-Detction\\try3.mp4: 448x640 Done. (0.316s)\n",
      "video 1/1 (37/77) C:\\Users\\rachi\\Desktop\\inueuron\\PERSONAL PROJECTS\\Smoke Detection\\Wildfire-Smoke-Object-Detction\\try3.mp4: 448x640 Done. (0.316s)\n",
      "video 1/1 (38/77) C:\\Users\\rachi\\Desktop\\inueuron\\PERSONAL PROJECTS\\Smoke Detection\\Wildfire-Smoke-Object-Detction\\try3.mp4: 448x640 Done. (0.325s)\n",
      "video 1/1 (39/77) C:\\Users\\rachi\\Desktop\\inueuron\\PERSONAL PROJECTS\\Smoke Detection\\Wildfire-Smoke-Object-Detction\\try3.mp4: 448x640 Done. (0.318s)\n",
      "video 1/1 (40/77) C:\\Users\\rachi\\Desktop\\inueuron\\PERSONAL PROJECTS\\Smoke Detection\\Wildfire-Smoke-Object-Detction\\try3.mp4: 448x640 Done. (0.317s)\n",
      "video 1/1 (41/77) C:\\Users\\rachi\\Desktop\\inueuron\\PERSONAL PROJECTS\\Smoke Detection\\Wildfire-Smoke-Object-Detction\\try3.mp4: 448x640 Done. (0.339s)\n",
      "video 1/1 (42/77) C:\\Users\\rachi\\Desktop\\inueuron\\PERSONAL PROJECTS\\Smoke Detection\\Wildfire-Smoke-Object-Detction\\try3.mp4: 448x640 Done. (0.339s)\n",
      "video 1/1 (43/77) C:\\Users\\rachi\\Desktop\\inueuron\\PERSONAL PROJECTS\\Smoke Detection\\Wildfire-Smoke-Object-Detction\\try3.mp4: 448x640 Done. (0.306s)\n",
      "video 1/1 (44/77) C:\\Users\\rachi\\Desktop\\inueuron\\PERSONAL PROJECTS\\Smoke Detection\\Wildfire-Smoke-Object-Detction\\try3.mp4: 448x640 Done. (0.334s)\n",
      "video 1/1 (45/77) C:\\Users\\rachi\\Desktop\\inueuron\\PERSONAL PROJECTS\\Smoke Detection\\Wildfire-Smoke-Object-Detction\\try3.mp4: 448x640 Done. (0.299s)\n",
      "video 1/1 (46/77) C:\\Users\\rachi\\Desktop\\inueuron\\PERSONAL PROJECTS\\Smoke Detection\\Wildfire-Smoke-Object-Detction\\try3.mp4: 448x640 Done. (0.300s)\n",
      "video 1/1 (47/77) C:\\Users\\rachi\\Desktop\\inueuron\\PERSONAL PROJECTS\\Smoke Detection\\Wildfire-Smoke-Object-Detction\\try3.mp4: 448x640 1 smoke, Done. (0.309s)\n",
      "video 1/1 (48/77) C:\\Users\\rachi\\Desktop\\inueuron\\PERSONAL PROJECTS\\Smoke Detection\\Wildfire-Smoke-Object-Detction\\try3.mp4: 448x640 1 smoke, Done. (0.306s)\n",
      "video 1/1 (49/77) C:\\Users\\rachi\\Desktop\\inueuron\\PERSONAL PROJECTS\\Smoke Detection\\Wildfire-Smoke-Object-Detction\\try3.mp4: 448x640 1 smoke, Done. (0.308s)\n",
      "video 1/1 (50/77) C:\\Users\\rachi\\Desktop\\inueuron\\PERSONAL PROJECTS\\Smoke Detection\\Wildfire-Smoke-Object-Detction\\try3.mp4: 448x640 1 smoke, Done. (0.300s)\n",
      "video 1/1 (51/77) C:\\Users\\rachi\\Desktop\\inueuron\\PERSONAL PROJECTS\\Smoke Detection\\Wildfire-Smoke-Object-Detction\\try3.mp4: 448x640 1 smoke, Done. (0.308s)\n",
      "video 1/1 (52/77) C:\\Users\\rachi\\Desktop\\inueuron\\PERSONAL PROJECTS\\Smoke Detection\\Wildfire-Smoke-Object-Detction\\try3.mp4: 448x640 1 smoke, Done. (0.316s)\n",
      "video 1/1 (53/77) C:\\Users\\rachi\\Desktop\\inueuron\\PERSONAL PROJECTS\\Smoke Detection\\Wildfire-Smoke-Object-Detction\\try3.mp4: 448x640 1 smoke, Done. (0.308s)\n",
      "video 1/1 (54/77) C:\\Users\\rachi\\Desktop\\inueuron\\PERSONAL PROJECTS\\Smoke Detection\\Wildfire-Smoke-Object-Detction\\try3.mp4: 448x640 1 smoke, Done. (0.308s)\n",
      "video 1/1 (55/77) C:\\Users\\rachi\\Desktop\\inueuron\\PERSONAL PROJECTS\\Smoke Detection\\Wildfire-Smoke-Object-Detction\\try3.mp4: 448x640 1 smoke, Done. (0.298s)\n",
      "video 1/1 (56/77) C:\\Users\\rachi\\Desktop\\inueuron\\PERSONAL PROJECTS\\Smoke Detection\\Wildfire-Smoke-Object-Detction\\try3.mp4: 448x640 1 smoke, Done. (0.334s)\n",
      "video 1/1 (57/77) C:\\Users\\rachi\\Desktop\\inueuron\\PERSONAL PROJECTS\\Smoke Detection\\Wildfire-Smoke-Object-Detction\\try3.mp4: 448x640 1 smoke, Done. (0.317s)\n",
      "video 1/1 (58/77) C:\\Users\\rachi\\Desktop\\inueuron\\PERSONAL PROJECTS\\Smoke Detection\\Wildfire-Smoke-Object-Detction\\try3.mp4: 448x640 1 smoke, Done. (0.307s)\n",
      "video 1/1 (59/77) C:\\Users\\rachi\\Desktop\\inueuron\\PERSONAL PROJECTS\\Smoke Detection\\Wildfire-Smoke-Object-Detction\\try3.mp4: 448x640 1 smoke, Done. (0.308s)\n",
      "video 1/1 (60/77) C:\\Users\\rachi\\Desktop\\inueuron\\PERSONAL PROJECTS\\Smoke Detection\\Wildfire-Smoke-Object-Detction\\try3.mp4: 448x640 Done. (0.300s)\n",
      "video 1/1 (61/77) C:\\Users\\rachi\\Desktop\\inueuron\\PERSONAL PROJECTS\\Smoke Detection\\Wildfire-Smoke-Object-Detction\\try3.mp4: 448x640 1 smoke, Done. (0.300s)\n",
      "video 1/1 (62/77) C:\\Users\\rachi\\Desktop\\inueuron\\PERSONAL PROJECTS\\Smoke Detection\\Wildfire-Smoke-Object-Detction\\try3.mp4: 448x640 Done. (0.308s)\n",
      "video 1/1 (63/77) C:\\Users\\rachi\\Desktop\\inueuron\\PERSONAL PROJECTS\\Smoke Detection\\Wildfire-Smoke-Object-Detction\\try3.mp4: 448x640 1 smoke, Done. (0.299s)\n",
      "video 1/1 (64/77) C:\\Users\\rachi\\Desktop\\inueuron\\PERSONAL PROJECTS\\Smoke Detection\\Wildfire-Smoke-Object-Detction\\try3.mp4: 448x640 Done. (0.316s)\n",
      "video 1/1 (65/77) C:\\Users\\rachi\\Desktop\\inueuron\\PERSONAL PROJECTS\\Smoke Detection\\Wildfire-Smoke-Object-Detction\\try3.mp4: 448x640 Done. (0.309s)\n",
      "video 1/1 (66/77) C:\\Users\\rachi\\Desktop\\inueuron\\PERSONAL PROJECTS\\Smoke Detection\\Wildfire-Smoke-Object-Detction\\try3.mp4: 448x640 Done. (0.309s)\n",
      "video 1/1 (67/77) C:\\Users\\rachi\\Desktop\\inueuron\\PERSONAL PROJECTS\\Smoke Detection\\Wildfire-Smoke-Object-Detction\\try3.mp4: 448x640 1 smoke, Done. (0.300s)\n",
      "video 1/1 (68/77) C:\\Users\\rachi\\Desktop\\inueuron\\PERSONAL PROJECTS\\Smoke Detection\\Wildfire-Smoke-Object-Detction\\try3.mp4: 448x640 1 smoke, Done. (0.300s)\n",
      "video 1/1 (69/77) C:\\Users\\rachi\\Desktop\\inueuron\\PERSONAL PROJECTS\\Smoke Detection\\Wildfire-Smoke-Object-Detction\\try3.mp4: 448x640 Done. (0.308s)\n",
      "video 1/1 (70/77) C:\\Users\\rachi\\Desktop\\inueuron\\PERSONAL PROJECTS\\Smoke Detection\\Wildfire-Smoke-Object-Detction\\try3.mp4: 448x640 Done. (0.317s)\n",
      "video 1/1 (71/77) C:\\Users\\rachi\\Desktop\\inueuron\\PERSONAL PROJECTS\\Smoke Detection\\Wildfire-Smoke-Object-Detction\\try3.mp4: 448x640 Done. (0.333s)\n",
      "video 1/1 (72/77) C:\\Users\\rachi\\Desktop\\inueuron\\PERSONAL PROJECTS\\Smoke Detection\\Wildfire-Smoke-Object-Detction\\try3.mp4: 448x640 Done. (0.309s)\n",
      "video 1/1 (73/77) C:\\Users\\rachi\\Desktop\\inueuron\\PERSONAL PROJECTS\\Smoke Detection\\Wildfire-Smoke-Object-Detction\\try3.mp4: 448x640 Done. (0.309s)\n",
      "video 1/1 (74/77) C:\\Users\\rachi\\Desktop\\inueuron\\PERSONAL PROJECTS\\Smoke Detection\\Wildfire-Smoke-Object-Detction\\try3.mp4: 448x640 Done. (0.302s)\n",
      "video 1/1 (75/77) C:\\Users\\rachi\\Desktop\\inueuron\\PERSONAL PROJECTS\\Smoke Detection\\Wildfire-Smoke-Object-Detction\\try3.mp4: 448x640 Done. (0.312s)\n",
      "video 1/1 (76/77) C:\\Users\\rachi\\Desktop\\inueuron\\PERSONAL PROJECTS\\Smoke Detection\\Wildfire-Smoke-Object-Detction\\try3.mp4: 448x640 Done. (0.304s)\n",
      "video 1/1 (77/77) C:\\Users\\rachi\\Desktop\\inueuron\\PERSONAL PROJECTS\\Smoke Detection\\Wildfire-Smoke-Object-Detction\\try3.mp4: 448x640 Done. (0.312s)\n",
      "Speed: 1.0ms pre-process, 313.9ms inference, 0.6ms NMS per image at shape (1, 3, 640, 640)\n",
      "Results saved to \u001b[1m..\\outputs\\2023-03-08_11-49-25\u001b[0m\n"
     ]
    }
   ],
   "source": [
    "!python ../yolov5/detect.py --weights $best_model_path --img 640 --conf 0.4 --source $source --project $output_folder --name $name"
   ]
  },
  {
   "cell_type": "code",
   "execution_count": null,
   "metadata": {},
   "outputs": [],
   "source": []
  },
  {
   "cell_type": "code",
   "execution_count": 58,
   "metadata": {},
   "outputs": [
    {
     "data": {
      "text/plain": [
       "['2023-03-07_16-23-31',\n",
       " '2023-03-07_16-37-12',\n",
       " '2023-03-07_16-37-122',\n",
       " '2023-03-07_16-37-123',\n",
       " '2023-03-07_16-37-124',\n",
       " '2023-03-07_16-37-125',\n",
       " '2023-03-07_18-04-52']"
      ]
     },
     "execution_count": 58,
     "metadata": {},
     "output_type": "execute_result"
    }
   ],
   "source": [
    "os.listdir(output_folder) "
   ]
  },
  {
   "attachments": {},
   "cell_type": "markdown",
   "metadata": {},
   "source": [
    "## Updations to yolov5.detect script\n",
    "\n",
    "Have updated --exist ok to not auto increment.\n",
    "\n",
    "Default: parser.add_argument('--exist-ok', action='store_true', help='existing project/name ok, do not increment')\n",
    "\n",
    "Modified: parser.add_argument('--exist-ok', action='store_false', help='existing project/name ok, do not increment')"
   ]
  },
  {
   "cell_type": "code",
   "execution_count": null,
   "metadata": {},
   "outputs": [],
   "source": []
  }
 ],
 "metadata": {
  "kernelspec": {
   "display_name": "base",
   "language": "python",
   "name": "python3"
  },
  "language_info": {
   "codemirror_mode": {
    "name": "ipython",
    "version": 3
   },
   "file_extension": ".py",
   "mimetype": "text/x-python",
   "name": "python",
   "nbconvert_exporter": "python",
   "pygments_lexer": "ipython3",
   "version": "3.8.0"
  },
  "orig_nbformat": 4
 },
 "nbformat": 4,
 "nbformat_minor": 2
}
